{
 "cells": [
  {
   "cell_type": "code",
   "execution_count": null,
   "id": "7f3dc343",
   "metadata": {},
   "outputs": [],
   "source": [
    "import pandas as pd\n",
    "from sklearn.ensemble import RandomForestClassifier\n",
    "from sklearn.model_selection import train_test_split\n",
    "from sklearn.preprocessing import StandardScaler\n",
    "from sklearn.ensemble import RandomForestClassifier\n",
    "from sklearn.metrics import accuracy_score"
   ]
  },
  {
   "cell_type": "code",
   "execution_count": null,
   "id": "aba11bb0",
   "metadata": {},
   "outputs": [],
   "source": [
    "# Assign variables to columns\n",
    "X = df.drop(columns=\"\")\n",
    "y = df[\"\"]"
   ]
  },
  {
   "cell_type": "code",
   "execution_count": null,
   "id": "b96e9772",
   "metadata": {},
   "outputs": [],
   "source": [
    "# Train data set\n",
    "X_train, X_test, y_train, y_test = train_test_split(X, y, random_state = 50, stratify=y)"
   ]
  },
  {
   "cell_type": "code",
   "execution_count": null,
   "id": "5abc9bd6",
   "metadata": {},
   "outputs": [],
   "source": [
    "# Standardize data set\n",
    "scaler = StandardScaler()\n",
    "# Fit X_train data\n",
    "scaler.fit(X_train)\n",
    "#Transform scaled data\n",
    "X_train_scaled = scaler.transform(X_train)\n",
    "X_test_scaled = sclaer.transform(X_test)"
   ]
  },
  {
   "cell_type": "code",
   "execution_count": null,
   "id": "88c88003",
   "metadata": {},
   "outputs": [],
   "source": [
    "# Create a random forest classifier.\n",
    "rf_model = RandomForestClassifier(n_estimators=128, random_state=78)\n",
    "\n",
    "# Fitting the model\n",
    "rf_model = rf_model.fit(X_train_scaled, y_train)\n",
    "\n",
    "# Evaluate the model\n",
    "y_pred = rf_model.predict(X_test_scaled)"
   ]
  }
 ],
 "metadata": {
  "kernelspec": {
   "display_name": "mlenv",
   "language": "python",
   "name": "mlenv"
  },
  "language_info": {
   "codemirror_mode": {
    "name": "ipython",
    "version": 3
   },
   "file_extension": ".py",
   "mimetype": "text/x-python",
   "name": "python",
   "nbconvert_exporter": "python",
   "pygments_lexer": "ipython3",
   "version": "3.7.13"
  }
 },
 "nbformat": 4,
 "nbformat_minor": 5
}
